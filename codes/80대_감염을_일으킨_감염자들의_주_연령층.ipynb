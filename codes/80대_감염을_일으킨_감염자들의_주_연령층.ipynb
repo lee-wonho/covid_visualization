{
 "cells": [
  {
   "cell_type": "code",
   "execution_count": 1,
   "metadata": {},
   "outputs": [],
   "source": [
    "import pandas as pd\n",
    "import numpy as np\n",
    "import matplotlib.pyplot as plt\n",
    "from matplotlib import font_manager, rc\n",
    "font_name = font_manager.FontProperties(fname=\"c:/Windows/Fonts/malgun.ttf\").get_name()\n",
    "rc('font', family=font_name)"
   ]
  },
  {
   "cell_type": "code",
   "execution_count": 2,
   "metadata": {},
   "outputs": [
    {
     "name": "stdout",
     "output_type": "stream",
     "text": [
      "<class 'pandas.core.frame.DataFrame'>\n",
      "RangeIndex: 4004 entries, 0 to 4003\n",
      "Data columns (total 18 columns):\n",
      " #   Column              Non-Null Count  Dtype  \n",
      "---  ------              --------------  -----  \n",
      " 0   patient_id          4004 non-null   int64  \n",
      " 1   global_num          2806 non-null   float64\n",
      " 2   sex                 3674 non-null   object \n",
      " 3   birth_year          3267 non-null   object \n",
      " 4   age                 3525 non-null   object \n",
      " 5   country             4004 non-null   object \n",
      " 6   province            4004 non-null   object \n",
      " 7   city                3926 non-null   object \n",
      " 8   disease             18 non-null     object \n",
      " 9   infection_case      3211 non-null   object \n",
      " 10  infection_order     31 non-null     float64\n",
      " 11  infected_by         899 non-null    object \n",
      " 12  contact_number      680 non-null    object \n",
      " 13  symptom_onset_date  535 non-null    object \n",
      " 14  confirmed_date      4001 non-null   object \n",
      " 15  released_date       1508 non-null   object \n",
      " 16  deceased_date       65 non-null     object \n",
      " 17  state               4004 non-null   object \n",
      "dtypes: float64(2), int64(1), object(15)\n",
      "memory usage: 563.2+ KB\n"
     ]
    },
    {
     "data": {
      "text/plain": [
       "RangeIndex(start=0, stop=4004, step=1)"
      ]
     },
     "execution_count": 2,
     "metadata": {},
     "output_type": "execute_result"
    }
   ],
   "source": [
    "# 데이터 불러오기\n",
    "df_raw = pd.read_csv(\"./coronavirusdataset_20200601/PatientInfo.csv\")\n",
    "df_raw.info()\n",
    "df_raw.age.value_counts()\n",
    "df_raw.index"
   ]
  },
  {
   "cell_type": "code",
   "execution_count": 3,
   "metadata": {
    "scrolled": true
   },
   "outputs": [
    {
     "name": "stderr",
     "output_type": "stream",
     "text": [
      "C:\\Users\\HDK\\anaconda3\\lib\\site-packages\\ipykernel_launcher.py:8: SettingWithCopyWarning: \n",
      "A value is trying to be set on a copy of a slice from a DataFrame\n",
      "\n",
      "See the caveats in the documentation: https://pandas.pydata.org/pandas-docs/stable/user_guide/indexing.html#returning-a-view-versus-a-copy\n",
      "  \n",
      "C:\\Users\\HDK\\anaconda3\\lib\\site-packages\\ipykernel_launcher.py:6: SettingWithCopyWarning: \n",
      "A value is trying to be set on a copy of a slice from a DataFrame\n",
      "\n",
      "See the caveats in the documentation: https://pandas.pydata.org/pandas-docs/stable/user_guide/indexing.html#returning-a-view-versus-a-copy\n",
      "  \n",
      "C:\\Users\\HDK\\anaconda3\\lib\\site-packages\\ipykernel_launcher.py:11: SettingWithCopyWarning: \n",
      "A value is trying to be set on a copy of a slice from a DataFrame\n",
      "\n",
      "See the caveats in the documentation: https://pandas.pydata.org/pandas-docs/stable/user_guide/indexing.html#returning-a-view-versus-a-copy\n",
      "  # This is added back by InteractiveShellApp.init_path()\n"
     ]
    }
   ],
   "source": [
    "# birth_year를 통해 age의 결측치 일부 회복\n",
    "df_raw.age = df_raw.age.replace('s','',regex=True)\n",
    "df_raw.age = pd.to_numeric(df_raw.age)\n",
    "for i in range(len(df_raw)):\n",
    "    if df_raw.birth_year[i] == \" \":\n",
    "        df_raw.birth_year[i] = np.NaN\n",
    "    else:\n",
    "        df_raw.birth_year[i] = pd.to_numeric(df_raw.birth_year[i])\n",
    "for i in range(len(df_raw)):\n",
    "    if pd.notna(df_raw.birth_year[i]) and pd.isna(df_raw.age[i]):\n",
    "        df_raw.age[i]=(2020-df_raw.birth_year[i])//10*10"
   ]
  },
  {
   "cell_type": "code",
   "execution_count": 4,
   "metadata": {},
   "outputs": [
    {
     "name": "stdout",
     "output_type": "stream",
     "text": [
      "<class 'pandas.core.frame.DataFrame'>\n",
      "Int64Index: 808 entries, 2 to 4000\n",
      "Data columns (total 4 columns):\n",
      " #   Column          Non-Null Count  Dtype  \n",
      "---  ------          --------------  -----  \n",
      " 0   patient_id      808 non-null    int64  \n",
      " 1   age             808 non-null    float64\n",
      " 2   infection_case  808 non-null    object \n",
      " 3   infected_by     808 non-null    object \n",
      "dtypes: float64(1), int64(1), object(2)\n",
      "memory usage: 31.6+ KB\n"
     ]
    }
   ],
   "source": [
    "# age, infected_by에서 결측치 제거한 결과물을 df_refine 생성\n",
    "df_refine = df_raw.dropna(subset = ['age', 'infected_by'])\n",
    "\n",
    "# 필요한 컬럼들을 시리즈로 추출\n",
    "patient_id = df_refine.patient_id\n",
    "age = df_refine.age\n",
    "infection_case = df_refine.infection_case\n",
    "infected_by = df_refine.infected_by\n",
    "\n",
    "# 시리즈가 된 patient_id, age, infection_case, infected_by를 DF로 통합\n",
    "df_refine = pd.concat([patient_id, age, infection_case, infected_by], axis=1)\n",
    "\n",
    "# infection_case 컬럼에서 값이 'contact with patient'인 데이터만 남기고 나머지는 전부 제거\n",
    "df_refine = df_refine.loc[df_refine['infection_case'].str.contains('contact with patient', na=False)]\n",
    "\n",
    "df_refine.info()"
   ]
  },
  {
   "cell_type": "code",
   "execution_count": 5,
   "metadata": {},
   "outputs": [],
   "source": [
    "# 80대 감염자들만을 모은 DF인 df_80s 생성\n",
    "df_80s = df_refine[df_refine.age == 80.0]\n",
    "df_80s\n",
    "df_80s = df_80s.reset_index(drop=True, inplace=False)\n",
    "df_80s['infected_by_int'] = pd.to_numeric(df_80s['infected_by'])"
   ]
  },
  {
   "cell_type": "code",
   "execution_count": 6,
   "metadata": {},
   "outputs": [
    {
     "name": "stdout",
     "output_type": "stream",
     "text": [
      "{'0s': [0.0], '10s': [0.0], '20s': [0.0967741935483871], '30s': [0.0], '40s': [0.06451612903225806], '50s': [0.06451612903225806], '60s': [0.1935483870967742], '70s': [0.1935483870967742], '80s': [0.3548387096774194], '90s': [0.03225806451612903], '100s': [0.0]}\n"
     ]
    }
   ],
   "source": [
    "# 감염시킨 사람들의 age를 담을 리스트\n",
    "list_target_age = []\n",
    "\n",
    "# df_80s의 infected_by 값을, df_raw의 patient_id와 비교하여\n",
    "# 리스트에 age 값을 append\n",
    "for value in df_80s.infected_by_int:\n",
    "    df_temp = df_raw[df_raw.patient_id == value]\n",
    "    target_age = df_temp.age.reset_index(drop=True, inplace=False)[0]\n",
    "    \n",
    "    list_target_age.append(target_age)\n",
    "\n",
    "# 리스트에 담긴 age를 분류\n",
    "count_0 = 0\n",
    "count_10 = 0\n",
    "count_20 = 0\n",
    "count_30 = 0\n",
    "count_40 = 0\n",
    "count_50 = 0\n",
    "count_60 = 0\n",
    "count_70 = 0\n",
    "count_80 = 0\n",
    "count_90 = 0\n",
    "count_100 = 0\n",
    "\n",
    "for age in list_target_age:\n",
    "    if (age == 0.0):\n",
    "        count_0 += 1\n",
    "    elif (age == 10.0):\n",
    "        count_10 += 1\n",
    "    elif (age == 20.0):\n",
    "        count_20 += 1\n",
    "    elif (age == 30.0):\n",
    "        count_30 += 1\n",
    "    elif (age == 40.0):\n",
    "        count_40 += 1\n",
    "    elif (age == 50.0):\n",
    "        count_50 += 1\n",
    "    elif (age == 60.0):\n",
    "        count_60 += 1\n",
    "    elif (age == 70.0):\n",
    "        count_70 += 1\n",
    "    elif (age == 80.0):\n",
    "        count_80 += 1\n",
    "    elif (age == 90.0):\n",
    "        count_90 += 1\n",
    "    elif (age == 100.0):\n",
    "        count_100 += 1\n",
    "        \n",
    "# 분류된 결과물을 딕셔너리화\n",
    "dict_target_age = {\"0s\" : [count_0/len(list_target_age)], \"10s\" : [count_10/len(list_target_age)], \"20s\" : [count_20/len(list_target_age)],\n",
    "                   \"30s\" : [count_30/len(list_target_age)], \"40s\" : [count_40/len(list_target_age)], \"50s\" : [count_50/len(list_target_age)],\n",
    "                   \"60s\" : [count_60/len(list_target_age)], \"70s\" : [count_70/len(list_target_age)], \"80s\" : [count_80/len(list_target_age)],\n",
    "                   \"90s\" : [count_90/len(list_target_age)], \"100s\" : [count_100/len(list_target_age)]\n",
    "                  }\n",
    "\n",
    "print(dict_target_age)"
   ]
  },
  {
   "cell_type": "code",
   "execution_count": 7,
   "metadata": {},
   "outputs": [
    {
     "data": {
      "text/html": [
       "<div>\n",
       "<style scoped>\n",
       "    .dataframe tbody tr th:only-of-type {\n",
       "        vertical-align: middle;\n",
       "    }\n",
       "\n",
       "    .dataframe tbody tr th {\n",
       "        vertical-align: top;\n",
       "    }\n",
       "\n",
       "    .dataframe thead th {\n",
       "        text-align: right;\n",
       "    }\n",
       "</style>\n",
       "<table border=\"1\" class=\"dataframe\">\n",
       "  <thead>\n",
       "    <tr style=\"text-align: right;\">\n",
       "      <th></th>\n",
       "      <th>비율</th>\n",
       "    </tr>\n",
       "  </thead>\n",
       "  <tbody>\n",
       "    <tr>\n",
       "      <th>0s</th>\n",
       "      <td>0.000000</td>\n",
       "    </tr>\n",
       "    <tr>\n",
       "      <th>10s</th>\n",
       "      <td>0.000000</td>\n",
       "    </tr>\n",
       "    <tr>\n",
       "      <th>20s</th>\n",
       "      <td>0.096774</td>\n",
       "    </tr>\n",
       "    <tr>\n",
       "      <th>30s</th>\n",
       "      <td>0.000000</td>\n",
       "    </tr>\n",
       "    <tr>\n",
       "      <th>40s</th>\n",
       "      <td>0.064516</td>\n",
       "    </tr>\n",
       "    <tr>\n",
       "      <th>50s</th>\n",
       "      <td>0.064516</td>\n",
       "    </tr>\n",
       "    <tr>\n",
       "      <th>60s</th>\n",
       "      <td>0.193548</td>\n",
       "    </tr>\n",
       "    <tr>\n",
       "      <th>70s</th>\n",
       "      <td>0.193548</td>\n",
       "    </tr>\n",
       "    <tr>\n",
       "      <th>80s</th>\n",
       "      <td>0.354839</td>\n",
       "    </tr>\n",
       "    <tr>\n",
       "      <th>90s</th>\n",
       "      <td>0.032258</td>\n",
       "    </tr>\n",
       "    <tr>\n",
       "      <th>100s</th>\n",
       "      <td>0.000000</td>\n",
       "    </tr>\n",
       "  </tbody>\n",
       "</table>\n",
       "</div>"
      ],
      "text/plain": [
       "            비율\n",
       "0s    0.000000\n",
       "10s   0.000000\n",
       "20s   0.096774\n",
       "30s   0.000000\n",
       "40s   0.064516\n",
       "50s   0.064516\n",
       "60s   0.193548\n",
       "70s   0.193548\n",
       "80s   0.354839\n",
       "90s   0.032258\n",
       "100s  0.000000"
      ]
     },
     "execution_count": 7,
     "metadata": {},
     "output_type": "execute_result"
    }
   ],
   "source": [
    "# 딕셔너리 -> DF\n",
    "df_result = pd.DataFrame.from_dict(dict_target_age)\n",
    "df_result = df_result.T\n",
    "df_result.rename(columns = {0 : '비율'}, inplace=True)\n",
    "df_result"
   ]
  },
  {
   "cell_type": "code",
   "execution_count": 8,
   "metadata": {},
   "outputs": [
    {
     "data": {
      "image/png": "[encoded data removed]",
      "text/plain": [
       "<Figure size 432x288 with 1 Axes>"
      ]
     },
     "metadata": {},
     "output_type": "display_data"
    }
   ],
   "source": [
    "# 파이차트로 연령대별 비율을 시각화\n",
    "color = ['red', 'lightgreen', 'blue', 'lightblue', 'green', 'lightyellow', 'magenta', 'orange']\n",
    "df_result['비율'].plot(kind='pie', colors=color)\n",
    "plt.title(\"80대 감염을 일으킨 감염자들의 주 연령층\")\n",
    "plt.xlabel(\"연령대\")\n",
    "plt.show()\n",
    "\n",
    "# 감염자 수가 많은 20대가 주된 연령층일 거라 생각했으나, 실제로는 80대가 주 연령층이며, 이어서 60~70대 감염자들 또한 높은 비율을 차지했다."
   ]
  }
 ],
 "metadata": {
  "kernelspec": {
   "display_name": "Python 3",
   "language": "python",
   "name": "python3"
  },
  "language_info": {
   "codemirror_mode": {
    "name": "ipython",
    "version": 3
   },
   "file_extension": ".py",
   "mimetype": "text/x-python",
   "name": "python",
   "nbconvert_exporter": "python",
   "pygments_lexer": "ipython3",
   "version": "3.7.6"
  }
 },
 "nbformat": 4,
 "nbformat_minor": 4
}
